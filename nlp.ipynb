{
 "cells": [
  {
   "cell_type": "code",
   "execution_count": 8,
   "metadata": {
    "ExecuteTime": {
     "end_time": "2019-08-02T20:02:06.038959Z",
     "start_time": "2019-08-02T20:02:06.034109Z"
    }
   },
   "outputs": [],
   "source": [
    "import spacy\n",
    "import numpy as np\n",
    "import matplotlib.pyplot as plt\n",
    "import pandas as pd"
   ]
  },
  {
   "cell_type": "code",
   "execution_count": 10,
   "metadata": {
    "ExecuteTime": {
     "end_time": "2019-08-02T20:02:18.375687Z",
     "start_time": "2019-08-02T20:02:18.359339Z"
    }
   },
   "outputs": [
    {
     "data": {
      "text/plain": [
       "'2.0.16'"
      ]
     },
     "execution_count": 10,
     "metadata": {},
     "output_type": "execute_result"
    }
   ],
   "source": [
    "spacy.__version__"
   ]
  },
  {
   "cell_type": "code",
   "execution_count": 12,
   "metadata": {
    "ExecuteTime": {
     "end_time": "2019-08-02T20:04:39.950588Z",
     "start_time": "2019-08-02T20:04:38.133211Z"
    }
   },
   "outputs": [],
   "source": [
    "nlp = spacy.load('en')"
   ]
  },
  {
   "cell_type": "code",
   "execution_count": 24,
   "metadata": {
    "ExecuteTime": {
     "end_time": "2019-08-02T20:11:53.238103Z",
     "start_time": "2019-08-02T20:11:53.219152Z"
    }
   },
   "outputs": [
    {
     "name": "stdout",
     "output_type": "stream",
     "text": [
      "Overwriting /Users/yanxinzhou/train/work/testcolor/1.txt\n"
     ]
    }
   ],
   "source": [
    "%%writefile  '/Users/yanxinzhou/train/work/testcolor/1.txt'\n",
    "\"\"\"I am good person with bad personality, Chicago is cold as shit.\n",
    "I wraps my British ass withU,S dollar.\n",
    "In June, 2017, a majority of Supreme Court Justices reached a subtle compromise that few expected regarding Donald Trump’s ban on travellers from predominantly Muslim countries entering the U.S. They issued an unsigned opinion that didn’t quite bless the President’s so-called travel ban—then in its second iteration, after multiple judicial setbacks—but nonetheless gave something to both sides. On the one hand, the Court said, the government would not be allowed to enforce the entry restrictions “against foreign nationals who have a credible claim of a bona fide relationship with a person or entity in the United States.” But, on the other, “all other foreign nationals” to whom the restrictions applied could be barred from the country. The decision was hugely consequential: the Trump Administration was forced to go back to the drawing board to craft a third executive order—one narrower and less discriminatory than the two that preceded it. A year later, a divided Supreme Court let that order stand as a proper exercise of Presidential power under immigration law.\"\"\""
   ]
  },
  {
   "cell_type": "code",
   "execution_count": 28,
   "metadata": {
    "ExecuteTime": {
     "end_time": "2019-08-02T20:13:04.267818Z",
     "start_time": "2019-08-02T20:13:03.940889Z"
    }
   },
   "outputs": [],
   "source": [
    "with open('1.txt','r') as f:\n",
    "    doc=nlp(f.read())"
   ]
  },
  {
   "cell_type": "code",
   "execution_count": 36,
   "metadata": {
    "ExecuteTime": {
     "end_time": "2019-08-02T20:26:02.260032Z",
     "start_time": "2019-08-02T20:26:02.242070Z"
    }
   },
   "outputs": [
    {
     "name": "stdout",
     "output_type": "stream",
     "text": [
      "In        ADP       IN        conjunction, subordinating or preposition\n",
      "June      PROPN     NNP       noun, proper singular\n",
      ",         PUNCT     ,         punctuation mark, comma\n",
      "2017      NUM       CD        cardinal number\n",
      ",         PUNCT     ,         punctuation mark, comma\n",
      "a         DET       DT        determiner\n",
      "majority  NOUN      NN        noun, singular or mass\n",
      "of        ADP       IN        conjunction, subordinating or preposition\n",
      "Supreme   PROPN     NNP       noun, proper singular\n",
      "Court     PROPN     NNP       noun, proper singular\n",
      "Justices  PROPN     NNPS      noun, proper plural\n",
      "reached   VERB      VBD       verb, past tense\n",
      "a         DET       DT        determiner\n",
      "subtle    ADJ       JJ        adjective\n",
      "compromiseNOUN      NN        noun, singular or mass\n",
      "that      ADJ       WDT       wh-determiner\n",
      "few       ADJ       JJ        adjective\n",
      "expected  VERB      VBN       verb, past participle\n",
      "regarding VERB      VBG       verb, gerund or present participle\n",
      "Donald    PROPN     NNP       noun, proper singular\n",
      "Trump     PROPN     NNP       noun, proper singular\n",
      "’s        PART      POS       possessive ending\n",
      "ban       NOUN      NN        noun, singular or mass\n",
      "on        ADP       IN        conjunction, subordinating or preposition\n",
      "travellersNOUN      NNS       noun, plural\n",
      "from      ADP       IN        conjunction, subordinating or preposition\n",
      "predominantlyADV       RB        adverb\n",
      "Muslim    ADJ       JJ        adjective\n",
      "countries NOUN      NNS       noun, plural\n",
      "entering  VERB      VBG       verb, gerund or present participle\n",
      "the       DET       DT        determiner\n",
      "U.S.      PROPN     NNP       noun, proper singular\n"
     ]
    }
   ],
   "source": [
    "for token in list(doc.sents)[2]:\n",
    "#     token.\n",
    "    print(f\"{token.text:{10}}{token.pos_:{10}}{token.tag_:{10}}{str(spacy.explain(token.tag_))}\")"
   ]
  },
  {
   "cell_type": "code",
   "execution_count": 38,
   "metadata": {
    "ExecuteTime": {
     "end_time": "2019-08-02T20:41:24.931755Z",
     "start_time": "2019-08-02T20:41:24.924998Z"
    }
   },
   "outputs": [],
   "source": [
    "POS_counts=doc.count_by(spacy.attrs.POS)"
   ]
  },
  {
   "cell_type": "code",
   "execution_count": 43,
   "metadata": {
    "ExecuteTime": {
     "end_time": "2019-08-03T21:12:42.608738Z",
     "start_time": "2019-08-03T21:12:42.578450Z"
    }
   },
   "outputs": [
    {
     "name": "stdout",
     "output_type": "stream",
     "text": [
      " 83 ADJ 30\n",
      " 84 ADP 21\n",
      " 85 ADV 11\n",
      " 88 CCONJ 4\n",
      " 89 DET 27\n",
      " 91 NOUN 41\n",
      " 92 NUM 4\n",
      " 93 PART 6\n",
      " 94 PRON 4\n",
      " 95 PROPN 18\n",
      " 96 PUNCT 32\n",
      " 99 VERB 31\n",
      " 102 SPACE 3\n"
     ]
    }
   ],
   "source": [
    "for k,v in sorted(POS_counts.items()):\n",
    "    print(f\" {k} {doc.vocab[k].text} {v}\")"
   ]
  },
  {
   "cell_type": "code",
   "execution_count": 45,
   "metadata": {
    "ExecuteTime": {
     "end_time": "2019-08-03T21:14:48.922064Z",
     "start_time": "2019-08-03T21:14:48.828725Z"
    }
   },
   "outputs": [
    {
     "ename": "NameError",
     "evalue": "name 'displacy' is not defined",
     "output_type": "error",
     "traceback": [
      "\u001b[0;31m---------------------------------------------------------------------------\u001b[0m",
      "\u001b[0;31mNameError\u001b[0m                                 Traceback (most recent call last)",
      "\u001b[0;32m<ipython-input-45-be06ae08e08a>\u001b[0m in \u001b[0;36m<module>\u001b[0;34m\u001b[0m\n\u001b[0;32m----> 1\u001b[0;31m \u001b[0mdisplacy\u001b[0m\u001b[0;34m.\u001b[0m\u001b[0mrender\u001b[0m\u001b[0;34m(\u001b[0m\u001b[0mlist\u001b[0m\u001b[0;34m(\u001b[0m\u001b[0mdoc\u001b[0m\u001b[0;34m.\u001b[0m\u001b[0msents\u001b[0m\u001b[0;34m)\u001b[0m\u001b[0;34m[\u001b[0m\u001b[0;36m2\u001b[0m\u001b[0;34m]\u001b[0m\u001b[0;34m,\u001b[0m\u001b[0mstyle\u001b[0m\u001b[0;34m=\u001b[0m\u001b[0;34m'dep'\u001b[0m\u001b[0;34m,\u001b[0m\u001b[0mjupyter\u001b[0m\u001b[0;34m=\u001b[0m\u001b[0;32mTrue\u001b[0m\u001b[0;34m)\u001b[0m\u001b[0;34m\u001b[0m\u001b[0;34m\u001b[0m\u001b[0m\n\u001b[0m",
      "\u001b[0;31mNameError\u001b[0m: name 'displacy' is not defined"
     ]
    }
   ],
   "source": [
    "displacy.render(list(doc.sents)[2],style='dep',jupyter=True)"
   ]
  },
  {
   "cell_type": "code",
   "execution_count": 52,
   "metadata": {
    "ExecuteTime": {
     "end_time": "2019-08-03T23:08:46.469206Z",
     "start_time": "2019-08-03T23:08:46.456084Z"
    }
   },
   "outputs": [
    {
     "name": "stdout",
     "output_type": "stream",
     "text": [
      "Chicago 382 Countries, cities, states\n",
      "\n",
      " 382 Countries, cities, states\n",
      "British 379 Nationalities or religious or political groups\n",
      "\n",
      " 382 Countries, cities, states\n",
      "June, 2017 388 Absolute or relative dates or periods\n",
      "Supreme Court 381 Companies, agencies, institutions, etc.\n",
      "Donald Trump 378 People, including fictional\n",
      "Muslim 379 Nationalities or religious or political groups\n",
      "U.S. 382 Countries, cities, states\n",
      "second 393 \"first\", \"second\", etc.\n",
      "Court 381 Companies, agencies, institutions, etc.\n",
      "the United States 382 Countries, cities, states\n",
      "the Trump Administration 381 Companies, agencies, institutions, etc.\n",
      "third 393 \"first\", \"second\", etc.\n",
      "two 394 Numerals that do not fall under another type\n",
      "A year later 388 Absolute or relative dates or periods\n",
      "Supreme Court 381 Companies, agencies, institutions, etc.\n",
      "\n",
      " 382 Countries, cities, states\n"
     ]
    }
   ],
   "source": [
    "for ent in doc.ents:\n",
    "    print(ent.text, ent.label,str(spacy.explain(ent.label_)))"
   ]
  },
  {
   "cell_type": "code",
   "execution_count": 54,
   "metadata": {
    "ExecuteTime": {
     "end_time": "2019-08-03T23:11:07.520086Z",
     "start_time": "2019-08-03T23:11:07.513460Z"
    }
   },
   "outputs": [
    {
     "data": {
      "text/plain": [
       "[\"\"\"I am good person with bad personality, Chicago is cold as shit.,\n",
       " I wraps my British ass withU,S dollar.,\n",
       " In June, 2017, a majority of Supreme Court Justices reached a subtle compromise that few expected regarding Donald Trump’s ban on travellers from predominantly Muslim countries entering the U.S.,\n",
       " They issued an unsigned opinion that didn’t quite bless the President’s so-called travel ban,\n",
       " —then in its second iteration, after multiple judicial setbacks—but nonetheless gave something to both sides.,\n",
       " On the one hand, the Court said, the government would not be allowed to enforce the entry restrictions “against foreign nationals who have a credible claim of a bona fide relationship with a person or entity in the United States.,\n",
       " ”,\n",
       " But, on the other, “all other foreign nationals” to whom the restrictions applied could be barred from the country.,\n",
       " The decision was hugely consequential: the Trump Administration was forced to go back to the drawing board to craft a third executive order—one narrower and less discriminatory than the two that preceded it.,\n",
       " A year later, a divided Supreme Court let that order stand as a proper exercise of Presidential power under immigration law.\",\n",
       " \"\"]"
      ]
     },
     "execution_count": 54,
     "metadata": {},
     "output_type": "execute_result"
    }
   ],
   "source": [
    "list(doc.sents)"
   ]
  },
  {
   "cell_type": "code",
   "execution_count": null,
   "metadata": {},
   "outputs": [],
   "source": []
  }
 ],
 "metadata": {
  "kernelspec": {
   "display_name": "py3",
   "language": "python",
   "name": "py3"
  },
  "language_info": {
   "codemirror_mode": {
    "name": "ipython",
    "version": 3
   },
   "file_extension": ".py",
   "mimetype": "text/x-python",
   "name": "python",
   "nbconvert_exporter": "python",
   "pygments_lexer": "ipython3",
   "version": "3.7.3"
  },
  "latex_envs": {
   "LaTeX_envs_menu_present": true,
   "autoclose": true,
   "autocomplete": false,
   "bibliofile": "biblio.bib",
   "cite_by": "apalike",
   "current_citInitial": 1,
   "eqLabelWithNumbers": true,
   "eqNumInitial": 1,
   "hotkeys": {
    "equation": "Ctrl-E",
    "itemize": "Ctrl-I"
   },
   "labels_anchors": false,
   "latex_user_defs": false,
   "report_style_numbering": false,
   "user_envs_cfg": false
  },
  "toc": {
   "nav_menu": {},
   "number_sections": true,
   "sideBar": true,
   "skip_h1_title": false,
   "title_cell": "Table of Contents",
   "title_sidebar": "Contents",
   "toc_cell": false,
   "toc_position": {},
   "toc_section_display": true,
   "toc_window_display": false
  },
  "varInspector": {
   "cols": {
    "lenName": 16,
    "lenType": 16,
    "lenVar": 40
   },
   "kernels_config": {
    "python": {
     "delete_cmd_postfix": "",
     "delete_cmd_prefix": "del ",
     "library": "var_list.py",
     "varRefreshCmd": "print(var_dic_list())"
    },
    "r": {
     "delete_cmd_postfix": ") ",
     "delete_cmd_prefix": "rm(",
     "library": "var_list.r",
     "varRefreshCmd": "cat(var_dic_list()) "
    }
   },
   "types_to_exclude": [
    "module",
    "function",
    "builtin_function_or_method",
    "instance",
    "_Feature"
   ],
   "window_display": false
  }
 },
 "nbformat": 4,
 "nbformat_minor": 2
}
